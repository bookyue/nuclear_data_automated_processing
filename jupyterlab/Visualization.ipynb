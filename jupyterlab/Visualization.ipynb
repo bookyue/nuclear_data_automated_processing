{
 "cells": [
  {
   "cell_type": "markdown",
   "id": "3ca1dad0",
   "metadata": {},
   "source": [
    "# Visualization"
   ]
  },
  {
   "cell_type": "code",
   "execution_count": 1,
   "id": "e649f947",
   "metadata": {},
   "outputs": [],
   "source": [
    "import os\n",
    "import sys\n",
    "module_path = os.path.abspath(os.path.join('..'))\n",
    "if module_path not in sys.path:\n",
    "    sys.path.append(module_path)\n",
    "\n",
    "from nuc_data_tool.db.fetch_data import fetch_files_by_name, fetch_data_by_filename_and_physical_quantities\n",
    "files = fetch_files_by_name()"
   ]
  },
  {
   "cell_type": "code",
   "execution_count": 2,
   "id": "e5636602",
   "metadata": {},
   "outputs": [
    {
     "data": {
      "text/plain": [
       "<bound method DataFrame.info of        nuc_ix     name first_step last_step\n",
       "0       10010       H1          0         0\n",
       "1       10020       H2          0         0\n",
       "2       10030       H3          0         0\n",
       "3       10040       H4          0         0\n",
       "4       10050       H5          0         0\n",
       "...       ...      ...        ...       ...\n",
       "3816  1102720    Ds272          0         0\n",
       "3817  1102730    Ds273          0         0\n",
       "3818  1102791  Ds279m1          0         0\n",
       "3819  1112720    Rg272          0         0\n",
       "3820  1112990   Pseudo          0         0\n",
       "\n",
       "[3821 rows x 4 columns]>"
      ]
     },
     "execution_count": 2,
     "metadata": {},
     "output_type": "execute_result"
    }
   ],
   "source": [
    "import lux\n",
    "import pandas as pd\n",
    "\n",
    "nuc_data = pd.DataFrame()\n",
    "\n",
    "for file in [files[0]]:\n",
    "    dict_nuc_data = fetch_data_by_filename_and_physical_quantities(file, 'isotope', False)\n",
    "\n",
    "    for pq in dict_nuc_data:\n",
    "        if dict_nuc_data[pq].empty:\n",
    "            continue\n",
    "\n",
    "        nuc_data = nuc_data.append(dict_nuc_data[pq], ignore_index=True)\n",
    "\n",
    "nuc_data.info"
   ]
  },
  {
   "cell_type": "code",
   "execution_count": 3,
   "id": "ebca3590",
   "metadata": {},
   "outputs": [
    {
     "name": "stdout",
     "output_type": "stream",
     "text": [
      "Transformation Pipeline and Model Successfully Loaded\n"
     ]
    }
   ],
   "source": [
    "from pycaret.anomaly import *\n",
    "saved_iforest = load_model('nuc_isotope_model')"
   ]
  },
  {
   "cell_type": "code",
   "execution_count": 4,
   "id": "7d3fe05a",
   "metadata": {},
   "outputs": [],
   "source": [
    "new_prediction = predict_model(saved_iforest, data=nuc_data)[[\"name\", \"Anomaly\"]]"
   ]
  },
  {
   "cell_type": "code",
   "execution_count": 5,
   "id": "27b1fc8b",
   "metadata": {},
   "outputs": [
    {
     "data": {
      "application/vnd.jupyter.widget-view+json": {
       "model_id": "9cdf2067ae0748129a0f52e57bd0d14d",
       "version_major": 2,
       "version_minor": 0
      },
      "text/plain": [
       "Button(description='Toggle Pandas/Lux', layout=Layout(top='5px', width='140px'), style=ButtonStyle())"
      ]
     },
     "metadata": {},
     "output_type": "display_data"
    },
    {
     "data": {
      "application/vnd.jupyter.widget-view+json": {
       "model_id": "16b25480b9244263b242489ed362c5d4",
       "version_major": 2,
       "version_minor": 0
      },
      "text/plain": [
       "Output()"
      ]
     },
     "metadata": {},
     "output_type": "display_data"
    }
   ],
   "source": [
    "new_prediction"
   ]
  },
  {
   "cell_type": "code",
   "execution_count": null,
   "id": "e139de59",
   "metadata": {},
   "outputs": [],
   "source": [
    "new_prediction = new_prediction[[\"name\", \"first_step\", \"last_step\", \"Anomaly\"]]"
   ]
  },
  {
   "cell_type": "code",
   "execution_count": null,
   "id": "f1e38867",
   "metadata": {},
   "outputs": [],
   "source": [
    "new_prediction"
   ]
  },
  {
   "cell_type": "code",
   "execution_count": null,
   "id": "2683bed9",
   "metadata": {},
   "outputs": [],
   "source": []
  }
 ],
 "metadata": {
  "kernelspec": {
   "display_name": "Python 3",
   "language": "python",
   "name": "python3"
  },
  "language_info": {
   "codemirror_mode": {
    "name": "ipython",
    "version": 3
   },
   "file_extension": ".py",
   "mimetype": "text/x-python",
   "name": "python",
   "nbconvert_exporter": "python",
   "pygments_lexer": "ipython3",
   "version": "3.9.4"
  }
 },
 "nbformat": 4,
 "nbformat_minor": 5
}
